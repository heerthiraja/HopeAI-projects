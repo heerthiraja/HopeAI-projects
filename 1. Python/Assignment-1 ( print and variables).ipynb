{
 "cells": [
  {
   "cell_type": "code",
   "execution_count": 7,
   "id": "90d3da26",
   "metadata": {},
   "outputs": [
    {
     "name": "stdout",
     "output_type": "stream",
     "text": [
      "Hello World\n"
     ]
    }
   ],
   "source": [
    "print(\"Hello World\")"
   ]
  },
  {
   "cell_type": "code",
   "execution_count": 8,
   "id": "f45a2175",
   "metadata": {},
   "outputs": [
    {
     "name": "stdout",
     "output_type": "stream",
     "text": [
      "Heerthi Raja H\n"
     ]
    }
   ],
   "source": [
    "print(\"Heerthi Raja H\")\n"
   ]
  },
  {
   "cell_type": "code",
   "execution_count": 9,
   "id": "7a954b08",
   "metadata": {},
   "outputs": [
    {
     "name": "stdout",
     "output_type": "stream",
     "text": [
      "Welcome to HOPE Artificial Intelligence\n"
     ]
    }
   ],
   "source": [
    "print(\"Welcome to HOPE Artificial Intelligence\")"
   ]
  },
  {
   "cell_type": "code",
   "execution_count": 10,
   "id": "4ecaf058",
   "metadata": {},
   "outputs": [
    {
     "name": "stdout",
     "output_type": "stream",
     "text": [
      "Name: Heerthi Raja H\n",
      "age: 18\n"
     ]
    }
   ],
   "source": [
    "print(\"Name: Heerthi Raja H\")\n",
    "print(\"age: 18\")"
   ]
  },
  {
   "cell_type": "code",
   "execution_count": 11,
   "id": "2557257e",
   "metadata": {},
   "outputs": [
    {
     "name": "stdout",
     "output_type": "stream",
     "text": [
      "72\n",
      "49\n",
      "add= 121\n"
     ]
    }
   ],
   "source": [
    "a=72\n",
    "b=49\n",
    "print(\"72\")\n",
    "print(\"49\")\n",
    "c=a+b\n",
    "print(\"add=\",c)"
   ]
  },
  {
   "cell_type": "code",
   "execution_count": 12,
   "id": "8878a607",
   "metadata": {},
   "outputs": [
    {
     "name": "stdout",
     "output_type": "stream",
     "text": [
      "a=343\n",
      "b=8778\n"
     ]
    }
   ],
   "source": [
    "print(\"a=343\")\n",
    "print(\"b=8778\")"
   ]
  },
  {
   "cell_type": "markdown",
   "id": "dd5cf8d0",
   "metadata": {},
   "source": [
    "a=946\n",
    "print(\"a=946\")\n",
    "b=234\n",
    "print(\"b=234\")\n",
    "c=a+b\n",
    "print(\"addition       =\",c)\n",
    "c=a-b\n",
    "print(\"subtraction    =\",c)\n",
    "c=a*b\n",
    "print(\"multiplication =\",c)\n",
    "c=a/b\n",
    "print(\"division       =\",c)\n"
   ]
  },
  {
   "cell_type": "markdown",
   "id": "c3d71cee",
   "metadata": {},
   "source": [
    "# Exponential"
   ]
  },
  {
   "cell_type": "code",
   "execution_count": 13,
   "id": "6cd3c5ec",
   "metadata": {},
   "outputs": [
    {
     "name": "stdout",
     "output_type": "stream",
     "text": [
      "a=5\n",
      "b=7\n"
     ]
    },
    {
     "data": {
      "text/plain": [
       "78125"
      ]
     },
     "execution_count": 13,
     "metadata": {},
     "output_type": "execute_result"
    }
   ],
   "source": [
    "print(\"a=5\")\n",
    "print(\"b=7\")\n",
    "pow(5,7)"
   ]
  },
  {
   "cell_type": "markdown",
   "id": "0c15fcbd",
   "metadata": {},
   "source": [
    "# Floor Division"
   ]
  },
  {
   "cell_type": "code",
   "execution_count": 14,
   "id": "9839b5f1",
   "metadata": {},
   "outputs": [
    {
     "name": "stdout",
     "output_type": "stream",
     "text": [
      "a=103\n",
      "b=10\n"
     ]
    },
    {
     "data": {
      "text/plain": [
       "10"
      ]
     },
     "execution_count": 14,
     "metadata": {},
     "output_type": "execute_result"
    }
   ],
   "source": [
    "a=103\n",
    "b=10\n",
    "print(\"a=103\")\n",
    "print(\"b=10\")\n",
    "a//b"
   ]
  },
  {
   "cell_type": "markdown",
   "id": "f4c3bcf1",
   "metadata": {},
   "source": [
    "# Equal"
   ]
  },
  {
   "cell_type": "code",
   "execution_count": 15,
   "id": "d19622c1",
   "metadata": {},
   "outputs": [
    {
     "name": "stdout",
     "output_type": "stream",
     "text": [
      "a=723\n",
      "b=723\n"
     ]
    },
    {
     "data": {
      "text/plain": [
       "True"
      ]
     },
     "execution_count": 15,
     "metadata": {},
     "output_type": "execute_result"
    }
   ],
   "source": [
    "a=723\n",
    "b=723\n",
    "print(\"a=723\")\n",
    "print(\"b=723\")\n",
    "a==b"
   ]
  },
  {
   "cell_type": "code",
   "execution_count": 16,
   "id": "fa5ea66b",
   "metadata": {},
   "outputs": [
    {
     "name": "stdout",
     "output_type": "stream",
     "text": [
      "a=376\n",
      "b=864\n"
     ]
    },
    {
     "data": {
      "text/plain": [
       "False"
      ]
     },
     "execution_count": 16,
     "metadata": {},
     "output_type": "execute_result"
    }
   ],
   "source": [
    "a=376\n",
    "b=864\n",
    "print(\"a=376\")\n",
    "print(\"b=864\")\n",
    "a==b"
   ]
  },
  {
   "cell_type": "markdown",
   "id": "45cb352b",
   "metadata": {},
   "source": [
    "# Not Equal\n"
   ]
  },
  {
   "cell_type": "code",
   "execution_count": 17,
   "id": "4647b19a",
   "metadata": {},
   "outputs": [
    {
     "name": "stdout",
     "output_type": "stream",
     "text": [
      "a=244\n",
      "b=424\n"
     ]
    },
    {
     "data": {
      "text/plain": [
       "True"
      ]
     },
     "execution_count": 17,
     "metadata": {},
     "output_type": "execute_result"
    }
   ],
   "source": [
    "a=244\n",
    "b=424\n",
    "print(\"a=244\")\n",
    "print(\"b=424\")\n",
    "a!=b"
   ]
  },
  {
   "cell_type": "markdown",
   "id": "146493b9",
   "metadata": {},
   "source": [
    "# Greater than and Less than"
   ]
  },
  {
   "cell_type": "code",
   "execution_count": 18,
   "id": "b09bcac7",
   "metadata": {},
   "outputs": [
    {
     "name": "stdout",
     "output_type": "stream",
     "text": [
      "a=754\n",
      "b=5\n",
      "a is Greater than b: True\n",
      "a is Less than b False\n"
     ]
    }
   ],
   "source": [
    "\n",
    "num1=int(input(\"a=\"))\n",
    "num2=int(input(\"b=\"))\n",
    "print(\"a is Greater than b:\",num1>num2)\n",
    "print(\"a is Less than b\",num1<num2)\n"
   ]
  },
  {
   "cell_type": "markdown",
   "id": "e6eb3dcf",
   "metadata": {},
   "source": [
    "# Greater than or Equal to, Less the Equal to\n"
   ]
  },
  {
   "cell_type": "code",
   "execution_count": 20,
   "id": "299ba091",
   "metadata": {},
   "outputs": [
    {
     "name": "stdout",
     "output_type": "stream",
     "text": [
      "a=5\n",
      "b=987\n",
      " a is Greater than or equal to b: False\n",
      "a is Less than or equal to b: True\n"
     ]
    }
   ],
   "source": [
    "num1=int(input(\"a=\"))\n",
    "num2=int(input(\"b=\"))\n",
    "print(\" a is Greater than or equal to b:\",num1>=num2)\n",
    "print(\"a is Less than or equal to b:\",num1<=num2)"
   ]
  },
  {
   "cell_type": "markdown",
   "id": "ee6261b9",
   "metadata": {},
   "source": [
    "# Equal operator using String"
   ]
  },
  {
   "cell_type": "code",
   "execution_count": 3,
   "id": "39d89e42",
   "metadata": {},
   "outputs": [
    {
     "name": "stdout",
     "output_type": "stream",
     "text": [
      "str1:hope AI\n",
      "str2:HOPE AI\n"
     ]
    },
    {
     "data": {
      "text/plain": [
       "False"
      ]
     },
     "execution_count": 3,
     "metadata": {},
     "output_type": "execute_result"
    }
   ],
   "source": [
    "print(\"str1:hope AI\")\n",
    "print(\"str2:HOPE AI\")\n",
    "str1=(\"hope AI\")\n",
    "str2=(\"HOPE AI\")\n",
    "str1==str2"
   ]
  }
 ],
 "metadata": {
  "kernelspec": {
   "display_name": "Python 3 (ipykernel)",
   "language": "python",
   "name": "python3"
  },
  "language_info": {
   "codemirror_mode": {
    "name": "ipython",
    "version": 3
   },
   "file_extension": ".py",
   "mimetype": "text/x-python",
   "name": "python",
   "nbconvert_exporter": "python",
   "pygments_lexer": "ipython3",
   "version": "3.9.12"
  }
 },
 "nbformat": 4,
 "nbformat_minor": 5
}
