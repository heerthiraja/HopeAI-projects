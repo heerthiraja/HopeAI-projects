{
 "cells": [
  {
   "cell_type": "code",
   "execution_count": 1,
   "id": "d6253c0e",
   "metadata": {},
   "outputs": [
    {
     "name": "stdout",
     "output_type": "stream",
     "text": [
      "\n"
     ]
    }
   ],
   "source": [
    "if():\n",
    "    print()\n",
    "else:\n",
    "    print()\n",
    "    "
   ]
  },
  {
   "cell_type": "markdown",
   "id": "fbf9b5f0",
   "metadata": {},
   "source": [
    "# Syntax for If-Else\n"
   ]
  },
  {
   "cell_type": "code",
   "execution_count": 4,
   "id": "7c0ffb08",
   "metadata": {},
   "outputs": [
    {
     "name": "stdout",
     "output_type": "stream",
     "text": [
      "enter the college name:JMC\n"
     ]
    }
   ],
   "source": [
    "CollegeName=input(\"enter the college name:\")"
   ]
  },
  {
   "cell_type": "code",
   "execution_count": 5,
   "id": "48a64a9b",
   "metadata": {},
   "outputs": [
    {
     "name": "stdout",
     "output_type": "stream",
     "text": [
      "placement and training\n"
     ]
    }
   ],
   "source": [
    "if(CollegeName==\"JMC\"):\n",
    "    print(\"placement and training\")\n",
    "else:\n",
    "    print(\"No placement and training\")"
   ]
  },
  {
   "cell_type": "code",
   "execution_count": 6,
   "id": "5fd38a7b",
   "metadata": {},
   "outputs": [
    {
     "name": "stdout",
     "output_type": "stream",
     "text": [
      "enter the age:18\n"
     ]
    }
   ],
   "source": [
    "age=input(\"enter the age:\")"
   ]
  },
  {
   "cell_type": "code",
   "execution_count": 10,
   "id": "2c2d94e7",
   "metadata": {},
   "outputs": [
    {
     "name": "stdout",
     "output_type": "stream",
     "text": [
      "enter the age:18\n",
      "adult\n"
     ]
    }
   ],
   "source": [
    "age=int(input(\"enter the age:\"))\n",
    "if(age>=18):\n",
    "    print(\"adult\")\n",
    "else:\n",
    "    print(\"child\")\n",
    "    "
   ]
  },
  {
   "cell_type": "code",
   "execution_count": 12,
   "id": "fe83c237",
   "metadata": {},
   "outputs": [
    {
     "name": "stdout",
     "output_type": "stream",
     "text": [
      "enter the age:25\n",
      "adult\n"
     ]
    }
   ],
   "source": [
    "age=int(input(\"enter the age:\"))\n",
    "if(age>=18):\n",
    "    print(\"adult\")\n",
    "else:\n",
    "    print(\"child\")"
   ]
  },
  {
   "cell_type": "markdown",
   "id": "e42993ed",
   "metadata": {},
   "source": [
    "# Syntax for If-elif"
   ]
  },
  {
   "cell_type": "code",
   "execution_count": 13,
   "id": "d5fc7813",
   "metadata": {},
   "outputs": [
    {
     "name": "stdout",
     "output_type": "stream",
     "text": [
      "enter the age:75\n",
      "senior citizen\n"
     ]
    }
   ],
   "source": [
    "age=int(input(\"enter the age:\"))\n",
    "if(age<=18):\n",
    "    print(\"child\")\n",
    "elif(age<=35):\n",
    "    print(\"adult\")\n",
    "elif(age<=55):\n",
    "    print(\"citizen\")\n",
    "elif(age<=100):\n",
    "    print(\"senior citizen\")\n",
    "    "
   ]
  },
  {
   "cell_type": "markdown",
   "id": "179326b7",
   "metadata": {},
   "source": [
    "# Syntax for Loop\n"
   ]
  },
  {
   "cell_type": "code",
   "execution_count": 14,
   "id": "48ca7630",
   "metadata": {},
   "outputs": [
    {
     "name": "stdout",
     "output_type": "stream",
     "text": [
      "0\n",
      "1\n",
      "2\n",
      "3\n",
      "4\n"
     ]
    }
   ],
   "source": [
    "for temp in range(0,5):\n",
    "    print(temp)"
   ]
  },
  {
   "cell_type": "code",
   "execution_count": 15,
   "id": "89c6681d",
   "metadata": {},
   "outputs": [],
   "source": [
    "list1=[\"Hope\",123,\"Welcome\",2022, \"AI\",\"jul17\"]"
   ]
  },
  {
   "cell_type": "code",
   "execution_count": 16,
   "id": "8dfeca44",
   "metadata": {},
   "outputs": [
    {
     "data": {
      "text/plain": [
       "'Hope'"
      ]
     },
     "execution_count": 16,
     "metadata": {},
     "output_type": "execute_result"
    }
   ],
   "source": [
    "list1[0]"
   ]
  },
  {
   "cell_type": "code",
   "execution_count": 17,
   "id": "efc670d3",
   "metadata": {},
   "outputs": [
    {
     "data": {
      "text/plain": [
       "'AI'"
      ]
     },
     "execution_count": 17,
     "metadata": {},
     "output_type": "execute_result"
    }
   ],
   "source": [
    "list1[4]"
   ]
  },
  {
   "cell_type": "code",
   "execution_count": 18,
   "id": "4653c68d",
   "metadata": {},
   "outputs": [
    {
     "data": {
      "text/plain": [
       "'jul17'"
      ]
     },
     "execution_count": 18,
     "metadata": {},
     "output_type": "execute_result"
    }
   ],
   "source": [
    "list1[5]"
   ]
  },
  {
   "cell_type": "code",
   "execution_count": 19,
   "id": "cd7ab304",
   "metadata": {},
   "outputs": [
    {
     "name": "stdout",
     "output_type": "stream",
     "text": [
      "Hope\n",
      "123\n",
      "Welcome\n",
      "2022\n",
      "AI\n",
      "jul17\n"
     ]
    }
   ],
   "source": [
    "for temp in list1:\n",
    "    print(temp)"
   ]
  },
  {
   "cell_type": "markdown",
   "id": "ad94cb0b",
   "metadata": {},
   "source": [
    "### Syntax for function"
   ]
  },
  {
   "cell_type": "code",
   "execution_count": 20,
   "id": "c383d829",
   "metadata": {},
   "outputs": [],
   "source": [
    "def functionName():\n",
    "    print()\n",
    "    \n"
   ]
  },
  {
   "cell_type": "code",
   "execution_count": 21,
   "id": "a22688ae",
   "metadata": {},
   "outputs": [],
   "source": [
    "def ageCata():\n",
    "    age=int(input(\"enter the age:\"))\n",
    "    if(age<=18):\n",
    "        print(\"children\")\n",
    "    elif(age<=35):\n",
    "        print(\"adult\")\n",
    "    elif(age<=55):\n",
    "        print(\"citizen\")\n",
    "    else:      \n",
    "        print(\"senior citizen\")\n",
    "        \n",
    "    \n",
    "    "
   ]
  },
  {
   "cell_type": "code",
   "execution_count": 22,
   "id": "fda48abc",
   "metadata": {},
   "outputs": [
    {
     "name": "stdout",
     "output_type": "stream",
     "text": [
      "hello world\n"
     ]
    }
   ],
   "source": [
    "print(\"hello world\")"
   ]
  },
  {
   "cell_type": "code",
   "execution_count": 23,
   "id": "0cecb40a",
   "metadata": {},
   "outputs": [
    {
     "name": "stdout",
     "output_type": "stream",
     "text": [
      "Cost Accountant\n"
     ]
    }
   ],
   "source": [
    "print(\"Cost Accountant\")"
   ]
  }
 ],
 "metadata": {
  "kernelspec": {
   "display_name": "Python 3 (ipykernel)",
   "language": "python",
   "name": "python3"
  },
  "language_info": {
   "codemirror_mode": {
    "name": "ipython",
    "version": 3
   },
   "file_extension": ".py",
   "mimetype": "text/x-python",
   "name": "python",
   "nbconvert_exporter": "python",
   "pygments_lexer": "ipython3",
   "version": "3.11.3"
  }
 },
 "nbformat": 4,
 "nbformat_minor": 5
}
