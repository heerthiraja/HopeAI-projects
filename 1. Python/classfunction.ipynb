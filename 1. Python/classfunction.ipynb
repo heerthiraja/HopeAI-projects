{
 "cells": [
  {
   "cell_type": "code",
   "execution_count": 1,
   "id": "7f7f4376",
   "metadata": {},
   "outputs": [],
   "source": [
    "class ageAadhar():\n",
    "    def ageCata():\n",
    "        age=int(input(\"enter the age:\"))\n",
    "        if(age<=18):\n",
    "            print(\"child\")\n",
    "        elif(age<=35):\n",
    "            print(\"adult\")\n",
    "        elif(age<=55):\n",
    "            print(\"citizen\")\n",
    "        else:\n",
    "            print(\"senior citizen\")\n",
    "\n",
    "    def addition():\n",
    "        num1=int(input(\"Enter the number1:\"))\n",
    "        num2=int(input(\"Enter the number2:\"))\n",
    "        add=num1+num2\n",
    "        print(add)\n",
    "    "
   ]
  }
 ],
 "metadata": {
  "kernelspec": {
   "display_name": "Python 3 (ipykernel)",
   "language": "python",
   "name": "python3"
  },
  "language_info": {
   "codemirror_mode": {
    "name": "ipython",
    "version": 3
   },
   "file_extension": ".py",
   "mimetype": "text/x-python",
   "name": "python",
   "nbconvert_exporter": "python",
   "pygments_lexer": "ipython3",
   "version": "3.9.12"
  }
 },
 "nbformat": 4,
 "nbformat_minor": 5
}
