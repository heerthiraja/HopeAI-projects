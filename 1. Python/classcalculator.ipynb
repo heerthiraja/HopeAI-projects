{
 "cells": [
  {
   "cell_type": "code",
   "execution_count": 1,
   "id": "fe4a0fc8",
   "metadata": {},
   "outputs": [],
   "source": [
    "class calculator():\n",
    "    \n",
    "    def addition():\n",
    "        num1=int(input(\"Enter the number 1:\"))\n",
    "        num2=int(input(\"Enter the number 2:\"))\n",
    "        num3=int(input(\"Enter the number 3:\"))\n",
    "        add=num1+num2+num3\n",
    "        print(add)\n",
    "        \n",
    "    def subtraction():\n",
    "        num1=int(input(\"Enter the number 1:\"))\n",
    "        num2=int(input(\"Enter the number 2:\"))\n",
    "        num3=int(input(\"Enter the number 3:\"))\n",
    "        sub=num1-num2-num3\n",
    "        print(sub)\n",
    "        "
   ]
  }
 ],
 "metadata": {
  "kernelspec": {
   "display_name": "Python 3 (ipykernel)",
   "language": "python",
   "name": "python3"
  },
  "language_info": {
   "codemirror_mode": {
    "name": "ipython",
    "version": 3
   },
   "file_extension": ".py",
   "mimetype": "text/x-python",
   "name": "python",
   "nbconvert_exporter": "python",
   "pygments_lexer": "ipython3",
   "version": "3.11.3"
  }
 },
 "nbformat": 4,
 "nbformat_minor": 5
}
