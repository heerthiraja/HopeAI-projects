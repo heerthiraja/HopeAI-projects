{
 "cells": [
  {
   "cell_type": "code",
   "execution_count": 3,
   "id": "08181ee4",
   "metadata": {},
   "outputs": [],
   "source": [
    "from classfunction import ageAadhar\n"
   ]
  },
  {
   "cell_type": "code",
   "execution_count": 5,
   "id": "3b0dc18f",
   "metadata": {},
   "outputs": [],
   "source": [
    "obj=ageAadhar()"
   ]
  },
  {
   "cell_type": "code",
   "execution_count": 6,
   "id": "8ae705c2",
   "metadata": {},
   "outputs": [
    {
     "name": "stdout",
     "output_type": "stream",
     "text": [
      "Enter the number1:4\n",
      "Enter the number2:5\n",
      "9\n"
     ]
    }
   ],
   "source": [
    "obj.addition()"
   ]
  },
  {
   "cell_type": "code",
   "execution_count": null,
   "id": "02a6dc46",
   "metadata": {},
   "outputs": [],
   "source": []
  }
 ],
 "metadata": {
  "kernelspec": {
   "display_name": "Python 3 (ipykernel)",
   "language": "python",
   "name": "python3"
  },
  "language_info": {
   "codemirror_mode": {
    "name": "ipython",
    "version": 3
   },
   "file_extension": ".py",
   "mimetype": "text/x-python",
   "name": "python",
   "nbconvert_exporter": "python",
   "pygments_lexer": "ipython3",
   "version": "3.9.12"
  }
 },
 "nbformat": 4,
 "nbformat_minor": 5
}
