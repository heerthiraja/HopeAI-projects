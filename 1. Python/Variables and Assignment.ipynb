{
 "cells": [
  {
   "cell_type": "code",
   "execution_count": 1,
   "id": "508115f6",
   "metadata": {},
   "outputs": [
    {
     "name": "stdout",
     "output_type": "stream",
     "text": [
      "Hello World\n"
     ]
    }
   ],
   "source": [
    "print(\"Hello World\")"
   ]
  },
  {
   "cell_type": "code",
   "execution_count": 2,
   "id": "1bd1edbd",
   "metadata": {},
   "outputs": [
    {
     "name": "stdout",
     "output_type": "stream",
     "text": [
      "Welcome to Hope AI\n"
     ]
    }
   ],
   "source": [
    "print(\"Welcome to Hope AI\")"
   ]
  },
  {
   "cell_type": "code",
   "execution_count": 3,
   "id": "5937c52e",
   "metadata": {},
   "outputs": [
    {
     "name": "stdout",
     "output_type": "stream",
     "text": [
      "23\n"
     ]
    }
   ],
   "source": [
    "num1=5\n",
    "num2=7\n",
    "num3=11\n",
    "add=num1+num2+num3\n",
    "print(add)"
   ]
  },
  {
   "cell_type": "code",
   "execution_count": 4,
   "id": "cae2fb76",
   "metadata": {},
   "outputs": [
    {
     "name": "stdout",
     "output_type": "stream",
     "text": [
      "mul of Num1,Num2 and Num3\n",
      "64\n"
     ]
    }
   ],
   "source": [
    "Num1=8\n",
    "Num2=4\n",
    "Num3=2\n",
    "mul=Num1*Num2*Num3\n",
    "print(\"mul of Num1,Num2 and Num3\")\n",
    "print(mul)\n",
    "\n"
   ]
  },
  {
   "cell_type": "code",
   "execution_count": 8,
   "id": "8469dd16",
   "metadata": {},
   "outputs": [
    {
     "name": "stdout",
     "output_type": "stream",
     "text": [
      "Welcome Heerthi Raja to Hope AI\n",
      "Welcome Ramisha Rani to Hope AI\n",
      "Welcome Fazil to Hope AI\n"
     ]
    }
   ],
   "source": [
    "org=\"Hope AI\"\n",
    "name1= \"Heerthi Raja\"\n",
    "name2= \"Ramisha Rani\"\n",
    "name3= \"Fazil\"\n",
    "print(\"Welcome\",name1,\"to\",org)\n",
    "print(\"Welcome\",name2,\"to\",org)\n",
    "print(\"Welcome\", name3, \"to\",org)"
   ]
  },
  {
   "cell_type": "markdown",
   "id": "6e9ad58f",
   "metadata": {},
   "source": [
    "# Variables Rules\n",
    "\n",
    "### No space between two terms.\n",
    "### Variables name should not be the reserved keyword.\n",
    "### Variables name should not start with  number.\n",
    "### Variable may start with alphabet, number, character.\n",
    "\n",
    "\n"
   ]
  },
  {
   "cell_type": "code",
   "execution_count": 5,
   "id": "6cf06c55",
   "metadata": {},
   "outputs": [],
   "source": [
    "_variable=6\n",
    "piValue=3.14\n",
    "pi_value=3.14\n"
   ]
  },
  {
   "cell_type": "code",
   "execution_count": 11,
   "id": "f9a03ba3",
   "metadata": {},
   "outputs": [
    {
     "name": "stdout",
     "output_type": "stream",
     "text": [
      "the radius of the circle: 2\n"
     ]
    }
   ],
   "source": [
    "radius=2\n",
    "print(\"the radius of the circle:\",radius)"
   ]
  },
  {
   "cell_type": "code",
   "execution_count": 13,
   "id": "b753c23e",
   "metadata": {},
   "outputs": [
    {
     "name": "stdout",
     "output_type": "stream",
     "text": [
      "the pi value is: 3.14\n"
     ]
    }
   ],
   "source": [
    "pi=3.14\n",
    "print(\"the pi value is:\",pi)"
   ]
  },
  {
   "cell_type": "code",
   "execution_count": 14,
   "id": "af55290c",
   "metadata": {},
   "outputs": [
    {
     "name": "stdout",
     "output_type": "stream",
     "text": [
      "the area of circle 12.56\n"
     ]
    }
   ],
   "source": [
    "radius=2\n",
    "pi=3.14\n",
    "acircle=pi*radius*radius\n",
    "print(\"the area of circle\",acircle)"
   ]
  },
  {
   "cell_type": "code",
   "execution_count": 15,
   "id": "7600ee87",
   "metadata": {},
   "outputs": [
    {
     "name": "stdout",
     "output_type": "stream",
     "text": [
      "hi Heerthi, You are going to rock in AI field\n"
     ]
    }
   ],
   "source": [
    "print(\"hi Heerthi, You are going to rock in AI field\")"
   ]
  },
  {
   "cell_type": "code",
   "execution_count": 6,
   "id": "1ca94aa1",
   "metadata": {},
   "outputs": [
    {
     "name": "stdout",
     "output_type": "stream",
     "text": [
      "Welcome to HopeAI. We will create best AI persons everywhere and they are ready to work in high positions.\n"
     ]
    }
   ],
   "source": [
    "print(\"Welcome to HopeAI. We will create best AI persons everywhere and they are ready to work in high positions.\")"
   ]
  },
  {
   "cell_type": "code",
   "execution_count": null,
   "id": "69c45029",
   "metadata": {},
   "outputs": [],
   "source": []
  }
 ],
 "metadata": {
  "kernelspec": {
   "display_name": "Python 3 (ipykernel)",
   "language": "python",
   "name": "python3"
  },
  "language_info": {
   "codemirror_mode": {
    "name": "ipython",
    "version": 3
   },
   "file_extension": ".py",
   "mimetype": "text/x-python",
   "name": "python",
   "nbconvert_exporter": "python",
   "pygments_lexer": "ipython3",
   "version": "3.9.12"
  }
 },
 "nbformat": 4,
 "nbformat_minor": 5
}
