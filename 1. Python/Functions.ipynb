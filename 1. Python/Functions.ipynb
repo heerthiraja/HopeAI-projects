{
 "cells": [
  {
   "cell_type": "markdown",
   "id": "83b86ba1",
   "metadata": {},
   "source": [
    "# Syntax fo Function"
   ]
  },
  {
   "cell_type": "code",
   "execution_count": null,
   "id": "9195c551",
   "metadata": {},
   "outputs": [],
   "source": [
    "def functionname():\n",
    "    print()"
   ]
  },
  {
   "cell_type": "code",
   "execution_count": 1,
   "id": "2af02083",
   "metadata": {},
   "outputs": [],
   "source": [
    "def ageCata():\n",
    "    \n",
    "    age=int(input(\"enter the age:\"))\n",
    "    if(age<=18):\n",
    "        print(\"child\")\n",
    "    elif(age<=35):\n",
    "        print(\"adult\")\n",
    "    elif(age<=55):\n",
    "        print(\"citizen\")\n",
    "    else:\n",
    "        print(\"senior citizen\")\n",
    "    "
   ]
  },
  {
   "cell_type": "code",
   "execution_count": 13,
   "id": "b39561ba",
   "metadata": {},
   "outputs": [
    {
     "name": "stdout",
     "output_type": "stream",
     "text": [
      "enter the age:39\n",
      "citizen\n"
     ]
    }
   ],
   "source": [
    " ageCata()\n",
    "    "
   ]
  },
  {
   "cell_type": "code",
   "execution_count": 3,
   "id": "c7045881",
   "metadata": {},
   "outputs": [
    {
     "name": "stdout",
     "output_type": "stream",
     "text": [
      "Enter the number1:5\n",
      "Enter the number2:4\n",
      "9\n"
     ]
    }
   ],
   "source": [
    "num1=int(input(\"Enter the number1:\"))\n",
    "num2=int(input(\"Enter the number2:\"))\n",
    "add=num1+num2\n",
    "print(add)"
   ]
  },
  {
   "cell_type": "code",
   "execution_count": 4,
   "id": "0b99e019",
   "metadata": {},
   "outputs": [
    {
     "name": "stdout",
     "output_type": "stream",
     "text": [
      "enter the age:35\n",
      "adult\n"
     ]
    }
   ],
   "source": [
    "ageCata()\n"
   ]
  },
  {
   "cell_type": "code",
   "execution_count": 9,
   "id": "8d4e5f55",
   "metadata": {},
   "outputs": [],
   "source": [
    "def addition():\n",
    "    num1=int(input(\"Enter the number1:\"))\n",
    "    num2=int(input(\"Enter the number2:\"))\n",
    "    add=num1+num2\n",
    "    print(add)"
   ]
  },
  {
   "cell_type": "code",
   "execution_count": 10,
   "id": "f8a754ae",
   "metadata": {},
   "outputs": [
    {
     "name": "stdout",
     "output_type": "stream",
     "text": [
      "Enter the number1:24\n",
      "Enter the number2:26\n",
      "50\n"
     ]
    }
   ],
   "source": [
    "addition()"
   ]
  }
 ],
 "metadata": {
  "kernelspec": {
   "display_name": "Python 3 (ipykernel)",
   "language": "python",
   "name": "python3"
  },
  "language_info": {
   "codemirror_mode": {
    "name": "ipython",
    "version": 3
   },
   "file_extension": ".py",
   "mimetype": "text/x-python",
   "name": "python",
   "nbconvert_exporter": "python",
   "pygments_lexer": "ipython3",
   "version": "3.9.12"
  }
 },
 "nbformat": 4,
 "nbformat_minor": 5
}
