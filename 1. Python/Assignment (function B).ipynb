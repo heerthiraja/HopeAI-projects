{
 "cells": [
  {
   "cell_type": "markdown",
   "id": "a56b1f91",
   "metadata": {},
   "source": [
    "# Class and Function\n",
    "# Heerthi Raja H\n",
    "## 10.09.2022"
   ]
  },
  {
   "cell_type": "code",
   "execution_count": 1,
   "id": "907f441b",
   "metadata": {},
   "outputs": [],
   "source": [
    "# print area dn perimeter of rectangle using class and function"
   ]
  },
  {
   "cell_type": "code",
   "execution_count": 2,
   "id": "31507eff",
   "metadata": {},
   "outputs": [],
   "source": [
    "class rectangle():\n",
    "    def rectangle():\n",
    "        Length=int(input(\"Length=\"))\n",
    "        Breadth=int(input(\"Breadth=\"))\n",
    "        area=Length*Breadth\n",
    "        print(\"Area formula:Length*Breadth\")\n",
    "        print(\"Area of Rectangle=\",area)\n",
    "        Length=int(input(\"Length=\"))\n",
    "        Breadth=int(input(\"Breadth=\"))\n",
    "        perimeter=2*(Length+Breadth)\n",
    "        print(\"Perimeter formula: 2*(Length+Breadth)\")\n",
    "        print(\"Perimeter of rectangle:\",perimeter)"
   ]
  },
  {
   "cell_type": "code",
   "execution_count": 3,
   "id": "97868891",
   "metadata": {},
   "outputs": [
    {
     "name": "stdout",
     "output_type": "stream",
     "text": [
      "Length=43\n",
      "Breadth=63\n",
      "Area formula:Length*Breadth\n",
      "Area of Rectangle= 2709\n",
      "Length=76\n",
      "Breadth=32\n",
      "Perimeter formula: 2*(Length+Breadth)\n",
      "Perimeter of rectangle: 216\n"
     ]
    }
   ],
   "source": [
    "rectangle.rectangle()"
   ]
  },
  {
   "cell_type": "code",
   "execution_count": 4,
   "id": "bd9bbabd",
   "metadata": {},
   "outputs": [],
   "source": [
    "# Classfunction to check the number is prime number or not"
   ]
  },
  {
   "cell_type": "code",
   "execution_count": 5,
   "id": "5c608d58",
   "metadata": {},
   "outputs": [],
   "source": [
    "class Prime():\n",
    "    def primeornot():\n",
    "        num=int(input(\"Enter any number:\"))\n",
    "        print(num,\"is a prime number\")"
   ]
  },
  {
   "cell_type": "code",
   "execution_count": 6,
   "id": "e580d2ac",
   "metadata": {},
   "outputs": [
    {
     "name": "stdout",
     "output_type": "stream",
     "text": [
      "Enter any number:29\n",
      "29 is a prime number\n"
     ]
    }
   ],
   "source": [
    "Prime.primeornot()\n"
   ]
  },
  {
   "cell_type": "code",
   "execution_count": 7,
   "id": "7847f9ff",
   "metadata": {},
   "outputs": [],
   "source": [
    "#print car model names using class and function"
   ]
  },
  {
   "cell_type": "code",
   "execution_count": 8,
   "id": "0bc7c076",
   "metadata": {},
   "outputs": [],
   "source": [
    "class carModel():\n",
    "    def modelFunc():\n",
    "        print(\"Car Model Names:\")\n",
    "        print(\"Maruti Alto\")\n",
    "        print(\"Maruti Dzire\")\n",
    "        print(\"Hyundai Creta\")\n",
    "        print(\"Maruti Swift\")"
   ]
  },
  {
   "cell_type": "code",
   "execution_count": 9,
   "id": "0d62be06",
   "metadata": {},
   "outputs": [
    {
     "name": "stdout",
     "output_type": "stream",
     "text": [
      "Car Model Names:\n",
      "Maruti Alto\n",
      "Maruti Dzire\n",
      "Hyundai Creta\n",
      "Maruti Swift\n"
     ]
    }
   ],
   "source": [
    "carModel.modelFunc()"
   ]
  },
  {
   "cell_type": "code",
   "execution_count": 10,
   "id": "d25119bc",
   "metadata": {},
   "outputs": [],
   "source": [
    "# a class to calculate average marks"
   ]
  },
  {
   "cell_type": "code",
   "execution_count": 11,
   "id": "7580e97c",
   "metadata": {},
   "outputs": [],
   "source": [
    "class averageclass():\n",
    "    def averageFun():\n",
    "        Mark1=int(input(\"Mark1=\"))\n",
    "        Mark2=int(input(\"Mark2=\"))\n",
    "        Mark3=int(input(\"Mark3=\"))\n",
    "        total=Mark1+Mark2+Mark3\n",
    "        print(\"Total=\",total)\n",
    "        Average=total/3\n",
    "        print(\"Average=\",Average)"
   ]
  },
  {
   "cell_type": "code",
   "execution_count": 12,
   "id": "9a4c8f9a",
   "metadata": {},
   "outputs": [
    {
     "name": "stdout",
     "output_type": "stream",
     "text": [
      "Mark1=98\n",
      "Mark2=76\n",
      "Mark3=65\n",
      "Total= 239\n",
      "Average= 79.66666666666667\n"
     ]
    }
   ],
   "source": [
    "averageclass.averageFun()"
   ]
  },
  {
   "cell_type": "code",
   "execution_count": 13,
   "id": "e25e0b6a",
   "metadata": {},
   "outputs": [],
   "source": [
    "#  class to calculate simple interest"
   ]
  },
  {
   "cell_type": "code",
   "execution_count": 14,
   "id": "d7abec13",
   "metadata": {},
   "outputs": [],
   "source": [
    "class SimpleInterest():\n",
    "    def SICalculator():\n",
    "        P=int(input(\"Principle amount=\"))\n",
    "        R=int(input(\"Rate of Interest=\"))\n",
    "        T=int(input(\"Time Period=\"))\n",
    "        SimpleInterest =(P*R*T)/100\n",
    "        print(\"Simple Interest formula=(P*R*T)/100\",)\n",
    "        print(\"Simple Interest=\",SimpleInterest)"
   ]
  },
  {
   "cell_type": "code",
   "execution_count": 15,
   "id": "85483d29",
   "metadata": {},
   "outputs": [
    {
     "name": "stdout",
     "output_type": "stream",
     "text": [
      "Principle amount=10000\n",
      "Rate of Interest=10\n",
      "Time Period=365\n",
      "Simple Interest formula=(P*R*T)/100\n",
      "Simple Interest= 365000.0\n"
     ]
    }
   ],
   "source": [
    "SimpleInterest.SICalculator()"
   ]
  },
  {
   "cell_type": "code",
   "execution_count": 16,
   "id": "491dc854",
   "metadata": {},
   "outputs": [],
   "source": [
    "# course list using class and function"
   ]
  },
  {
   "cell_type": "code",
   "execution_count": 17,
   "id": "12bb795a",
   "metadata": {},
   "outputs": [
    {
     "name": "stdout",
     "output_type": "stream",
     "text": [
      "Course List:\n",
      "Python\n",
      "Machine learning\n",
      "Data Science\n",
      "Deep Learning\n",
      "Time series\n"
     ]
    }
   ],
   "source": [
    "class Courselist():\n",
    "        print(\"Course List:\")\n",
    "        courseNames=(\"Python\",\"Machine learning\",\"Data Science\",\"Deep Learning\",\"Time series\")\n",
    "        for temp in courseNames:\n",
    "            print(temp)"
   ]
  },
  {
   "cell_type": "code",
   "execution_count": 18,
   "id": "4af5c16b",
   "metadata": {},
   "outputs": [],
   "source": [
    "class Courselist():\n",
    "    def CourseNames():\n",
    "        print(\"Course List:\")\n",
    "        print(\"Python\")\n",
    "        print(\"Machine learning\")\n",
    "        print(\"Data Science\")\n",
    "        print(\"Deep Learning\")\n",
    "        print(\"Time series\")"
   ]
  },
  {
   "cell_type": "code",
   "execution_count": 19,
   "id": "cb3f2235",
   "metadata": {},
   "outputs": [
    {
     "name": "stdout",
     "output_type": "stream",
     "text": [
      "Course List:\n",
      "Python\n",
      "Machine learning\n",
      "Data Science\n",
      "Deep Learning\n",
      "Time series\n"
     ]
    }
   ],
   "source": [
    "Courselist.CourseNames()"
   ]
  },
  {
   "cell_type": "code",
   "execution_count": 20,
   "id": "b94d9b55",
   "metadata": {},
   "outputs": [],
   "source": [
    "# class to swap two numbers without using temporary variable"
   ]
  },
  {
   "cell_type": "code",
   "execution_count": 1,
   "id": "431bad30",
   "metadata": {},
   "outputs": [
    {
     "name": "stdout",
     "output_type": "stream",
     "text": [
      "a=  13\n",
      "b=  98\n",
      "After Swapping\n",
      "a=  98\n",
      "b=  13\n"
     ]
    }
   ],
   "source": [
    "a=int(input(\"a=  \"))\n",
    "b=int(input(\"b=  \"))\n",
    "print(\"After Swapping\")\n",
    "a=int(input(\"a=  \"))\n",
    "b=int(input(\"b=  \"))\n"
   ]
  },
  {
   "cell_type": "markdown",
   "id": "26d1c385",
   "metadata": {},
   "source": [
    "# Thank you!"
   ]
  }
 ],
 "metadata": {
  "kernelspec": {
   "display_name": "Python 3 (ipykernel)",
   "language": "python",
   "name": "python3"
  },
  "language_info": {
   "codemirror_mode": {
    "name": "ipython",
    "version": 3
   },
   "file_extension": ".py",
   "mimetype": "text/x-python",
   "name": "python",
   "nbconvert_exporter": "python",
   "pygments_lexer": "ipython3",
   "version": "3.9.12"
  }
 },
 "nbformat": 4,
 "nbformat_minor": 5
}
