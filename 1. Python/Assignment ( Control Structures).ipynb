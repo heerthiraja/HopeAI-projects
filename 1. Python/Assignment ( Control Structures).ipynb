{
 "cells": [
  {
   "cell_type": "markdown",
   "id": "113975e6",
   "metadata": {},
   "source": [
    "# Heerthi Raja. H\n",
    "# 10.09.2022"
   ]
  },
  {
   "cell_type": "code",
   "execution_count": 1,
   "id": "0b3029cc",
   "metadata": {},
   "outputs": [
    {
     "name": "stdout",
     "output_type": "stream",
     "text": [
      "0\n",
      "1\n",
      "2\n",
      "3\n",
      "4\n",
      "5\n",
      "6\n",
      "7\n",
      "8\n",
      "9\n",
      "10\n",
      "11\n"
     ]
    }
   ],
   "source": [
    "range (0,12)\n",
    "for temp in range(0,12):\n",
    "    print(temp)"
   ]
  },
  {
   "cell_type": "code",
   "execution_count": 2,
   "id": "791a7816",
   "metadata": {},
   "outputs": [
    {
     "name": "stdout",
     "output_type": "stream",
     "text": [
      "342 is greater than 8\n"
     ]
    }
   ],
   "source": [
    "print(\"342 is greater than 8\")"
   ]
  },
  {
   "cell_type": "code",
   "execution_count": 3,
   "id": "8b2914d8",
   "metadata": {},
   "outputs": [
    {
     "name": "stdout",
     "output_type": "stream",
     "text": [
      "H\n",
      "e\n",
      "l\n",
      "l\n",
      "o\n"
     ]
    }
   ],
   "source": [
    "list1=(\"H\",\"e\",\"l\",\"l\",\"o\")\n",
    "for temp in list1:\n",
    "    print(temp)"
   ]
  },
  {
   "cell_type": "code",
   "execution_count": 4,
   "id": "119f6f20",
   "metadata": {},
   "outputs": [
    {
     "name": "stdout",
     "output_type": "stream",
     "text": [
      "Machine Learning\n",
      "Deep Learning\n",
      "NLP\n"
     ]
    }
   ],
   "source": [
    "list1=(\"Machine Learning\",\"Deep Learning\",\"NLP\")\n",
    "for temp in list1:\n",
    "    print(temp)"
   ]
  },
  {
   "cell_type": "code",
   "execution_count": 5,
   "id": "04fd630a",
   "metadata": {},
   "outputs": [
    {
     "name": "stdout",
     "output_type": "stream",
     "text": [
      "Data Science\n",
      "D\n",
      "a\n",
      "t\n",
      "a\n",
      "\n",
      "S\n",
      "c\n",
      "i\n",
      "e\n",
      "n\n",
      "c\n",
      "e\n"
     ]
    }
   ],
   "source": [
    "print(\"Data Science\")\n",
    "list1=(\"D\",\"a\",\"t\",\"a\",\"\",\"S\",\"c\",\"i\",\"e\",\"n\",\"c\",\"e\")\n",
    "for temp in list1:\n",
    "    print(temp)"
   ]
  },
  {
   "cell_type": "markdown",
   "id": "76ae8c43",
   "metadata": {},
   "source": [
    "# minimum Maximum functions"
   ]
  },
  {
   "cell_type": "code",
   "execution_count": 6,
   "id": "f7258385",
   "metadata": {},
   "outputs": [
    {
     "name": "stdout",
     "output_type": "stream",
     "text": [
      "101\n",
      "207\n",
      "376\n",
      "376 is greater\n"
     ]
    }
   ],
   "source": [
    "list1=(\"101\",\"207\",\"376\")\n",
    "for temp in list1:\n",
    "    print(temp)\n",
    "print(max(list1),(\"is greater\"))"
   ]
  },
  {
   "cell_type": "markdown",
   "id": "bf130ef4",
   "metadata": {},
   "source": [
    "# Multiple Operator"
   ]
  },
  {
   "cell_type": "code",
   "execution_count": 7,
   "id": "1a79ad9f",
   "metadata": {},
   "outputs": [
    {
     "name": "stdout",
     "output_type": "stream",
     "text": [
      "0\n",
      "3\n",
      "6\n",
      "9\n",
      "12\n",
      "15\n",
      "18\n",
      "21\n",
      "24\n",
      "27\n"
     ]
    }
   ],
   "source": [
    "range(10)\n",
    "for temp in range(10):\n",
    "    print(temp*3)"
   ]
  },
  {
   "cell_type": "code",
   "execution_count": 8,
   "id": "b12720f6",
   "metadata": {},
   "outputs": [
    {
     "name": "stdout",
     "output_type": "stream",
     "text": [
      "1\n",
      "3\n",
      "5\n",
      "7\n",
      "9\n",
      "11\n",
      "13\n",
      "15\n",
      "17\n",
      "19\n"
     ]
    }
   ],
   "source": [
    "range(10)\n",
    "for temp in range(10):\n",
    "    print(temp*2+1)"
   ]
  },
  {
   "cell_type": "code",
   "execution_count": 9,
   "id": "31be7bf1",
   "metadata": {},
   "outputs": [
    {
     "name": "stdout",
     "output_type": "stream",
     "text": [
      "35 is odd\n"
     ]
    }
   ],
   "source": [
    "num=(20,28,66,48,35,88)\n",
    "for i in num:\n",
    "    if i%2==1:\n",
    "        print(i, (\"is odd\"))"
   ]
  }
 ],
 "metadata": {
  "kernelspec": {
   "display_name": "Python 3 (ipykernel)",
   "language": "python",
   "name": "python3"
  },
  "language_info": {
   "codemirror_mode": {
    "name": "ipython",
    "version": 3
   },
   "file_extension": ".py",
   "mimetype": "text/x-python",
   "name": "python",
   "nbconvert_exporter": "python",
   "pygments_lexer": "ipython3",
   "version": "3.9.12"
  }
 },
 "nbformat": 4,
 "nbformat_minor": 5
}
