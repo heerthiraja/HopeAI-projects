{
 "cells": [
  {
   "cell_type": "markdown",
   "id": "ec90ef25",
   "metadata": {},
   "source": [
    "# Functions\n",
    "# Heerthi Raja H\n",
    "# 10.09.2022"
   ]
  },
  {
   "cell_type": "markdown",
   "id": "6dc1b83c",
   "metadata": {},
   "source": [
    "# Print area and perameter of square using function"
   ]
  },
  {
   "cell_type": "code",
   "execution_count": 3,
   "id": "78f86995",
   "metadata": {},
   "outputs": [
    {
     "name": "stdout",
     "output_type": "stream",
     "text": [
      "side=4\n",
      "Area formula: side*side\n",
      "Area of square: 16\n",
      "Area of perimeter: 4*side\n",
      "Area of perimeter: 16\n"
     ]
    }
   ],
   "source": [
    "side=int(input(\"side=\"))\n",
    "area=side*side\n",
    "print(\"Area formula: side*side\")\n",
    "print(\"Area of square:\",area)\n",
    "perimeter=4*side\n",
    "print(\"Area of perimeter: 4*side\")\n",
    "print(\"Area of perimeter:\",perimeter)"
   ]
  },
  {
   "cell_type": "code",
   "execution_count": 8,
   "id": "50451c68",
   "metadata": {},
   "outputs": [],
   "source": [
    "def squarearea():\n",
    "    side=int(input(\"side=\"))\n",
    "    area=side*side\n",
    "    print(\"Area formula: side*side\")\n",
    "    print(\"Area of square:\",area)\n",
    "    perimeter=4*side\n",
    "    print(\"Area of perimeter: 4*side\")\n",
    "    print(\"Area of perimeter:\",perimeter)"
   ]
  },
  {
   "cell_type": "code",
   "execution_count": 10,
   "id": "927c5ce2",
   "metadata": {},
   "outputs": [
    {
     "name": "stdout",
     "output_type": "stream",
     "text": [
      "side=4\n",
      "Area formula: side*side\n",
      "Area of square: 16\n",
      "Area of perimeter: 4*side\n",
      "Area of perimeter: 16\n"
     ]
    }
   ],
   "source": [
    "squarearea()"
   ]
  },
  {
   "cell_type": "markdown",
   "id": "1a4c1ff5",
   "metadata": {},
   "source": [
    "# Function to calculate simpple linear using formula"
   ]
  },
  {
   "cell_type": "code",
   "execution_count": 19,
   "id": "76b23950",
   "metadata": {},
   "outputs": [
    {
     "name": "stdout",
     "output_type": "stream",
     "text": [
      "Weight:45\n",
      "Input=14\n",
      "Bias Value=5\n",
      "Formula: Output=Weight*Inpt+BiasValue\n",
      "Simple linear= 635\n"
     ]
    }
   ],
   "source": [
    "Weight=int(input(\"Weight:\"))\n",
    "Inpt=int(input(\"Input=\"))\n",
    "BiasValue=int(input(\"Bias Value=\"))\n",
    "print(\"Formula: Output=Weight*Inpt+BiasValue\")\n",
    "print(\"Simple linear=\",Weight*Inpt+BiasValue)\n"
   ]
  },
  {
   "cell_type": "code",
   "execution_count": 21,
   "id": "9c93e4ce",
   "metadata": {},
   "outputs": [],
   "source": [
    "def simplelinear():\n",
    "    Weight=int(input(\"Weight:\"))\n",
    "    Inpt=int(input(\"Input=\"))\n",
    "    BiasValue=int(input(\"Bias Value=\"))\n",
    "    print(\"Formula: Output=Weight*Inpt+BiasValue\")\n",
    "    print(\"Simple linear=\",Weight*Inpt+BiasValue)\n",
    "\n",
    "    "
   ]
  },
  {
   "cell_type": "code",
   "execution_count": 22,
   "id": "4ebb228f",
   "metadata": {},
   "outputs": [
    {
     "name": "stdout",
     "output_type": "stream",
     "text": [
      "Weight:45\n",
      "Input=14\n",
      "Bias Value=5\n",
      "Formula: Output=Weight*Inpt+BiasValue\n",
      "Simple linear= 635\n"
     ]
    }
   ],
   "source": [
    "simplelinear()"
   ]
  },
  {
   "cell_type": "markdown",
   "id": "9b07e240",
   "metadata": {},
   "source": [
    "# Present age using function"
   ]
  },
  {
   "cell_type": "code",
   "execution_count": 27,
   "id": "2e4e0ae4",
   "metadata": {},
   "outputs": [
    {
     "name": "stdout",
     "output_type": "stream",
     "text": [
      "Birth Year:2003\n",
      "Present Year:2022\n",
      "Formula:PresentYear-BirthYear\n",
      "Present age= 19\n"
     ]
    }
   ],
   "source": [
    "BirthYear=int(input(\"Birth Year:\"))\n",
    "PresentYear=int(input(\"Present Year:\"))\n",
    "print(\"Formula:PresentYear-BirthYear\")\n",
    "print(\"Present age=\",PresentYear-BirthYear)\n"
   ]
  },
  {
   "cell_type": "code",
   "execution_count": 30,
   "id": "c466baaf",
   "metadata": {},
   "outputs": [],
   "source": [
    "def Presentage():\n",
    "    BirthYear=int(input(\"Birth Year:\"))\n",
    "    PresentYear=int(input(\"Present Year:\"))\n",
    "    print(\"Formula:PresentYear-BirthYear\")\n",
    "    print(\"Present age=\",PresentYear-BirthYear)\n",
    "    "
   ]
  },
  {
   "cell_type": "code",
   "execution_count": 32,
   "id": "3093b3a7",
   "metadata": {},
   "outputs": [
    {
     "name": "stdout",
     "output_type": "stream",
     "text": [
      "Birth Year:2003\n",
      "Present Year:2022\n",
      "Formula:PresentYear-BirthYear\n",
      "Present age= 19\n"
     ]
    }
   ],
   "source": [
    "Presentage()\n"
   ]
  },
  {
   "cell_type": "markdown",
   "id": "42dfd497",
   "metadata": {},
   "source": [
    "# Thank you!"
   ]
  }
 ],
 "metadata": {
  "kernelspec": {
   "display_name": "Python 3 (ipykernel)",
   "language": "python",
   "name": "python3"
  },
  "language_info": {
   "codemirror_mode": {
    "name": "ipython",
    "version": 3
   },
   "file_extension": ".py",
   "mimetype": "text/x-python",
   "name": "python",
   "nbconvert_exporter": "python",
   "pygments_lexer": "ipython3",
   "version": "3.9.12"
  }
 },
 "nbformat": 4,
 "nbformat_minor": 5
}
