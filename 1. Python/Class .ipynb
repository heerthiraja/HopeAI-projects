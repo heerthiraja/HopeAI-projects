{
 "cells": [
  {
   "cell_type": "markdown",
   "id": "e74ae30c",
   "metadata": {},
   "source": [
    "# Syntax for Class"
   ]
  },
  {
   "cell_type": "code",
   "execution_count": null,
   "id": "c8d59a0d",
   "metadata": {},
   "outputs": [],
   "source": [
    "class classname():\n",
    "    def functionName1():\n",
    "        print()\n",
    "    def functionName2():\n",
    "        print()"
   ]
  },
  {
   "cell_type": "code",
   "execution_count": 1,
   "id": "fbcf3e22",
   "metadata": {},
   "outputs": [],
   "source": [
    "class ageAadhar():\n",
    "    def ageCata():\n",
    "        age=int(input(\"enter the age:\"))\n",
    "        if(age<=18):\n",
    "            print(\"child\")\n",
    "        elif(age<=35):\n",
    "            print(\"adult\")\n",
    "        elif(age<=55):\n",
    "            print(\"citizen\")\n",
    "        else:\n",
    "            print(\"senior citizen\")\n",
    "\n",
    "    def addition():\n",
    "        num1=int(input(\"Enter the number1:\"))\n",
    "        num2=int(input(\"Enter the number2:\"))\n",
    "        add=num1+num2\n",
    "        print(add)\n",
    "    "
   ]
  },
  {
   "cell_type": "code",
   "execution_count": null,
   "id": "9ca4607e",
   "metadata": {},
   "outputs": [],
   "source": [
    "addition()"
   ]
  },
  {
   "cell_type": "code",
   "execution_count": 3,
   "id": "7fb58cd9",
   "metadata": {},
   "outputs": [
    {
     "name": "stdout",
     "output_type": "stream",
     "text": [
      "Enter the number1:2\n",
      "Enter the number2:2\n",
      "4\n"
     ]
    }
   ],
   "source": [
    "ageAadhar.addition()"
   ]
  },
  {
   "cell_type": "code",
   "execution_count": 4,
   "id": "54a4793e",
   "metadata": {},
   "outputs": [
    {
     "name": "stdout",
     "output_type": "stream",
     "text": [
      "enter the age:5\n",
      "child\n"
     ]
    }
   ],
   "source": [
    "ageAadhar.ageCata()"
   ]
  },
  {
   "cell_type": "code",
   "execution_count": null,
   "id": "13672228",
   "metadata": {},
   "outputs": [],
   "source": [
    "# AI is the application of Mathematics"
   ]
  },
  {
   "cell_type": "code",
   "execution_count": 7,
   "id": "d76d0d23",
   "metadata": {},
   "outputs": [
    {
     "ename": "SyntaxError",
     "evalue": "invalid syntax (2333248479.py, line 3)",
     "output_type": "error",
     "traceback": [
      "\u001b[1;36m  Input \u001b[1;32mIn [7]\u001b[1;36m\u001b[0m\n\u001b[1;33m    1. Requirements- Add,sub,matrixmulti etc\u001b[0m\n\u001b[1;37m       ^\u001b[0m\n\u001b[1;31mSyntaxError\u001b[0m\u001b[1;31m:\u001b[0m invalid syntax\n"
     ]
    }
   ],
   "source": [
    "#Procedure\n",
    "\n",
    "1. Requirements- Add,sub,matrixmulti etc\n",
    "2. Output display\n",
    "3. Logic \n",
    "\n",
    "These 3 should know to you before start coding. these are the basics\n",
    "\n",
    "4. Coding Logics\n",
    "5. Convert function\n",
    "6. check the functionn working or not\n",
    "\n",
    "If these steps are correct, Youu can covert these into classes.\n",
    "\n",
    "7. Convert into class"
   ]
  }
 ],
 "metadata": {
  "kernelspec": {
   "display_name": "Python 3 (ipykernel)",
   "language": "python",
   "name": "python3"
  },
  "language_info": {
   "codemirror_mode": {
    "name": "ipython",
    "version": 3
   },
   "file_extension": ".py",
   "mimetype": "text/x-python",
   "name": "python",
   "nbconvert_exporter": "python",
   "pygments_lexer": "ipython3",
   "version": "3.9.12"
  }
 },
 "nbformat": 4,
 "nbformat_minor": 5
}
