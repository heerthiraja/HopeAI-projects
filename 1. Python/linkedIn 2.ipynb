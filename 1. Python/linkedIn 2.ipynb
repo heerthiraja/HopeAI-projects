{
 "cells": [
  {
   "cell_type": "markdown",
   "id": "172ee0ff",
   "metadata": {},
   "source": [
    "## Welcome - Day 2"
   ]
  },
  {
   "cell_type": "code",
   "execution_count": 6,
   "id": "d089f2db",
   "metadata": {},
   "outputs": [],
   "source": [
    "class calculator():\n",
    "    \n",
    "    def addition():\n",
    "        num1=int(input(\"Enter the number 1:\"))\n",
    "        num2=int(input(\"Enter the number 2:\"))\n",
    "        num3=int(input(\"Enter the number 3:\"))\n",
    "        add=num1+num2+num3\n",
    "        print(add)\n",
    "        \n",
    "    def subtraction():\n",
    "        num1=int(input(\"Enter the number 1:\"))\n",
    "        num2=int(input(\"Enter the number 2:\"))\n",
    "        num3=int(input(\"Enter the number 3:\"))\n",
    "        sub=num1-num2-num3\n",
    "        print(sub)\n",
    "        \n",
    "    def multiple():\n",
    "        num1=int(input(\"Enter the number 1:\"))\n",
    "        num2=int(input(\"Enter the number 2:\"))\n",
    "        num3=int(input(\"Enter the number 3:\"))\n",
    "        mul=num1*num2*num3\n",
    "        print(mul)\n",
    "        \n",
    "    def divide():\n",
    "        num1=int(input(\"Enter the number 1:\"))\n",
    "        num2=int(input(\"Enter the number 2:\"))\n",
    "        num3=int(input(\"Enter the number 3:\"))\n",
    "        div=num1/num2/num3\n",
    "        print(div)"
   ]
  },
  {
   "cell_type": "code",
   "execution_count": 7,
   "id": "6486ec2b",
   "metadata": {},
   "outputs": [
    {
     "name": "stdout",
     "output_type": "stream",
     "text": [
      "Enter the number 1:50\n",
      "Enter the number 2:25\n",
      "Enter the number 3:25\n",
      "100\n"
     ]
    }
   ],
   "source": [
    "calculator.addition()"
   ]
  },
  {
   "cell_type": "code",
   "execution_count": 8,
   "id": "75907d9b",
   "metadata": {},
   "outputs": [
    {
     "name": "stdout",
     "output_type": "stream",
     "text": [
      "Enter the number 1:200\n",
      "Enter the number 2:75\n",
      "Enter the number 3:25\n",
      "100\n"
     ]
    }
   ],
   "source": [
    "calculator.subtraction()"
   ]
  },
  {
   "cell_type": "code",
   "execution_count": 10,
   "id": "e3c20803",
   "metadata": {},
   "outputs": [
    {
     "name": "stdout",
     "output_type": "stream",
     "text": [
      "Enter the number 1:5\n",
      "Enter the number 2:5\n",
      "Enter the number 3:4\n",
      "100\n"
     ]
    }
   ],
   "source": [
    "calculator.multiple()"
   ]
  },
  {
   "cell_type": "code",
   "execution_count": 11,
   "id": "6436456b",
   "metadata": {},
   "outputs": [
    {
     "name": "stdout",
     "output_type": "stream",
     "text": [
      "Enter the number 1:1000\n",
      "Enter the number 2:5\n",
      "Enter the number 3:2\n",
      "100.0\n"
     ]
    }
   ],
   "source": [
    "calculator.divide()"
   ]
  },
  {
   "cell_type": "code",
   "execution_count": 12,
   "id": "5559f628",
   "metadata": {},
   "outputs": [],
   "source": [
    "obj=calculator"
   ]
  },
  {
   "cell_type": "code",
   "execution_count": 13,
   "id": "43ab8613",
   "metadata": {},
   "outputs": [
    {
     "name": "stdout",
     "output_type": "stream",
     "text": [
      "Enter the number 1:12\n",
      "Enter the number 2:12\n",
      "Enter the number 3:12\n",
      "36\n"
     ]
    }
   ],
   "source": [
    "obj.addition()"
   ]
  },
  {
   "cell_type": "code",
   "execution_count": 14,
   "id": "6ff57920",
   "metadata": {},
   "outputs": [
    {
     "name": "stdout",
     "output_type": "stream",
     "text": [
      "Enter the number 1:354\n",
      "Enter the number 2:35\n",
      "Enter the number 3:34\n",
      "285\n"
     ]
    }
   ],
   "source": [
    "obj.subtraction()"
   ]
  },
  {
   "cell_type": "code",
   "execution_count": 15,
   "id": "86cd3e12",
   "metadata": {},
   "outputs": [
    {
     "name": "stdout",
     "output_type": "stream",
     "text": [
      "Enter the number 1:234\n",
      "Enter the number 2:2\n",
      "Enter the number 3:2\n",
      "936\n"
     ]
    }
   ],
   "source": [
    "obj.multiple()"
   ]
  },
  {
   "cell_type": "code",
   "execution_count": 17,
   "id": "63d03379",
   "metadata": {},
   "outputs": [
    {
     "name": "stdout",
     "output_type": "stream",
     "text": [
      "Enter the number 1:100\n",
      "Enter the number 2:2\n",
      "Enter the number 3:4\n",
      "12.5\n"
     ]
    }
   ],
   "source": [
    "obj.divide()"
   ]
  },
  {
   "cell_type": "code",
   "execution_count": 18,
   "id": "8b8edd7b",
   "metadata": {},
   "outputs": [
    {
     "name": "stdout",
     "output_type": "stream",
     "text": [
      "I did it\n"
     ]
    }
   ],
   "source": [
    "print(\"I did it\")"
   ]
  },
  {
   "cell_type": "code",
   "execution_count": null,
   "id": "7bf35db4",
   "metadata": {},
   "outputs": [],
   "source": []
  }
 ],
 "metadata": {
  "kernelspec": {
   "display_name": "Python 3 (ipykernel)",
   "language": "python",
   "name": "python3"
  },
  "language_info": {
   "codemirror_mode": {
    "name": "ipython",
    "version": 3
   },
   "file_extension": ".py",
   "mimetype": "text/x-python",
   "name": "python",
   "nbconvert_exporter": "python",
   "pygments_lexer": "ipython3",
   "version": "3.11.3"
  }
 },
 "nbformat": 4,
 "nbformat_minor": 5
}
