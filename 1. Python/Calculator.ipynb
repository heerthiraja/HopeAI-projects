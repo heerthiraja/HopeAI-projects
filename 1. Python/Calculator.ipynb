{
 "cells": [
  {
   "cell_type": "code",
   "execution_count": 1,
   "id": "d0a03ce8",
   "metadata": {},
   "outputs": [],
   "source": [
    "class calculator():\n",
    "    \n",
    "    def addition():\n",
    "        num1=int(input(\"Enter the number 1:\"))\n",
    "        num2=int(input(\"Enter the number 2:\"))\n",
    "        num3=int(input(\"Enter the number 3:\"))\n",
    "        add=num1+num2+num3\n",
    "        print(add)\n",
    "        \n",
    "    def subtraction():\n",
    "        num1=int(input(\"Enter the number 1:\"))\n",
    "        num2=int(input(\"Enter the number 2:\"))\n",
    "        num3=int(input(\"Enter the number 3:\"))\n",
    "        sub=num1-num2-num3\n",
    "        print(sub)\n",
    "        \n",
    "    "
   ]
  },
  {
   "cell_type": "code",
   "execution_count": 3,
   "id": "86f03a92",
   "metadata": {},
   "outputs": [
    {
     "name": "stdout",
     "output_type": "stream",
     "text": [
      "Enter the number 1:3\n",
      "Enter the number 2:5\n",
      "Enter the number 3:5\n",
      "13\n"
     ]
    }
   ],
   "source": [
    "calculator.addition()"
   ]
  },
  {
   "cell_type": "code",
   "execution_count": 4,
   "id": "1bd25923",
   "metadata": {},
   "outputs": [
    {
     "name": "stdout",
     "output_type": "stream",
     "text": [
      "Enter the number 1:3\n",
      "Enter the number 2:5\n",
      "Enter the number 3:6\n",
      "-8\n"
     ]
    }
   ],
   "source": [
    "calculator.subtraction()"
   ]
  }
 ],
 "metadata": {
  "kernelspec": {
   "display_name": "Python 3 (ipykernel)",
   "language": "python",
   "name": "python3"
  },
  "language_info": {
   "codemirror_mode": {
    "name": "ipython",
    "version": 3
   },
   "file_extension": ".py",
   "mimetype": "text/x-python",
   "name": "python",
   "nbconvert_exporter": "python",
   "pygments_lexer": "ipython3",
   "version": "3.11.3"
  }
 },
 "nbformat": 4,
 "nbformat_minor": 5
}
