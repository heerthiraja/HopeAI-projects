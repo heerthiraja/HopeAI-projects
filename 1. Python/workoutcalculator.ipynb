{
 "cells": [
  {
   "cell_type": "code",
   "execution_count": 1,
   "id": "87983007",
   "metadata": {},
   "outputs": [],
   "source": [
    "from classcalculator import calculator"
   ]
  },
  {
   "cell_type": "code",
   "execution_count": 2,
   "id": "6486ec2b",
   "metadata": {},
   "outputs": [
    {
     "name": "stdout",
     "output_type": "stream",
     "text": [
      "Enter the number 1:3\n",
      "Enter the number 2:5\n",
      "Enter the number 3:5\n",
      "13\n"
     ]
    }
   ],
   "source": [
    "calculator.addition()"
   ]
  },
  {
   "cell_type": "code",
   "execution_count": 3,
   "id": "75907d9b",
   "metadata": {},
   "outputs": [
    {
     "name": "stdout",
     "output_type": "stream",
     "text": [
      "Enter the number 1:3\n",
      "Enter the number 2:4\n",
      "Enter the number 3:5\n",
      "-6\n"
     ]
    }
   ],
   "source": [
    "calculator.subtraction()\n"
   ]
  },
  {
   "cell_type": "code",
   "execution_count": 4,
   "id": "5559f628",
   "metadata": {},
   "outputs": [],
   "source": [
    "obj=calculator"
   ]
  },
  {
   "cell_type": "code",
   "execution_count": 5,
   "id": "43ab8613",
   "metadata": {},
   "outputs": [
    {
     "name": "stdout",
     "output_type": "stream",
     "text": [
      "Enter the number 1:3\n",
      "Enter the number 2:4\n",
      "Enter the number 3:4\n",
      "11\n"
     ]
    }
   ],
   "source": [
    "obj.addition()"
   ]
  },
  {
   "cell_type": "code",
   "execution_count": 6,
   "id": "6ff57920",
   "metadata": {},
   "outputs": [
    {
     "name": "stdout",
     "output_type": "stream",
     "text": [
      "Enter the number 1:3\n",
      "Enter the number 2:2\n",
      "Enter the number 3:1\n",
      "0\n"
     ]
    }
   ],
   "source": [
    "obj.subtraction()"
   ]
  },
  {
   "cell_type": "code",
   "execution_count": 7,
   "id": "8b8edd7b",
   "metadata": {},
   "outputs": [
    {
     "name": "stdout",
     "output_type": "stream",
     "text": [
      "I did it\n"
     ]
    }
   ],
   "source": [
    "print(\"I did it\")"
   ]
  }
 ],
 "metadata": {
  "kernelspec": {
   "display_name": "Python 3 (ipykernel)",
   "language": "python",
   "name": "python3"
  },
  "language_info": {
   "codemirror_mode": {
    "name": "ipython",
    "version": 3
   },
   "file_extension": ".py",
   "mimetype": "text/x-python",
   "name": "python",
   "nbconvert_exporter": "python",
   "pygments_lexer": "ipython3",
   "version": "3.11.3"
  }
 },
 "nbformat": 4,
 "nbformat_minor": 5
}
