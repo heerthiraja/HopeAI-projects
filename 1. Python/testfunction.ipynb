{
 "cells": [
  {
   "cell_type": "code",
   "execution_count": 3,
   "id": "9e72d8c5",
   "metadata": {},
   "outputs": [],
   "source": [
    "from agefunction import ageCata,addition\n"
   ]
  },
  {
   "cell_type": "code",
   "execution_count": 7,
   "id": "1d80f3a6",
   "metadata": {},
   "outputs": [
    {
     "name": "stdout",
     "output_type": "stream",
     "text": [
      "enter the age:24\n",
      "adult\n"
     ]
    }
   ],
   "source": [
    "ageCata()"
   ]
  },
  {
   "cell_type": "code",
   "execution_count": 4,
   "id": "b0a90ce1",
   "metadata": {},
   "outputs": [
    {
     "name": "stdout",
     "output_type": "stream",
     "text": [
      "Enter the number1:2\n",
      "Enter the number2:48\n",
      "50\n"
     ]
    }
   ],
   "source": [
    "addition()"
   ]
  },
  {
   "cell_type": "code",
   "execution_count": 9,
   "id": "2802b71a",
   "metadata": {},
   "outputs": [
    {
     "data": {
      "text/plain": [
       "False"
      ]
     },
     "execution_count": 9,
     "metadata": {},
     "output_type": "execute_result"
    }
   ],
   "source": [
    "### 2 lines of code\n",
    "True \n",
    "False\n"
   ]
  }
 ],
 "metadata": {
  "kernelspec": {
   "display_name": "Python 3",
   "language": "python",
   "name": "python3"
  },
  "language_info": {
   "codemirror_mode": {
    "name": "ipython",
    "version": 3
   },
   "file_extension": ".py",
   "mimetype": "text/x-python",
   "name": "python",
   "nbconvert_exporter": "python",
   "pygments_lexer": "ipython3",
   "version": "3.7.6"
  }
 },
 "nbformat": 4,
 "nbformat_minor": 5
}
